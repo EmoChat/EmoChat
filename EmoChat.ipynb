{
  "nbformat": 4,
  "nbformat_minor": 0,
  "metadata": {
    "colab": {
      "name": "EmoChat",
      "provenance": [],
      "mount_file_id": "1_dYp8w2Zb6K-pFHJeG-hj6HdXJwpKBwJ",
      "authorship_tag": "ABX9TyOR230J94S+KkEN3q2OlCZL",
      "include_colab_link": true
    },
    "kernelspec": {
      "name": "python3",
      "display_name": "Python 3"
    }
  },
  "cells": [
    {
      "cell_type": "markdown",
      "metadata": {
        "id": "view-in-github",
        "colab_type": "text"
      },
      "source": [
        "<a href=\"https://colab.research.google.com/github/EmoChat/EmoChat/blob/master/EmoChat.ipynb\" target=\"_parent\"><img src=\"https://colab.research.google.com/assets/colab-badge.svg\" alt=\"Open In Colab\"/></a>"
      ]
    },
    {
      "cell_type": "code",
      "metadata": {
        "id": "xd7jBnGRIpz0"
      },
      "source": [
        "import tensorflow as tf\n",
        "from tensorflow.keras import *"
      ],
      "execution_count": null,
      "outputs": []
    },
    {
      "cell_type": "code",
      "metadata": {
        "id": "WZnAHGETHu7e"
      },
      "source": [
        "import matplotlib.pylab as plt\n",
        "import numpy as np\n",
        "import os\n",
        "import PIL\n",
        "import PIL.Image\n",
        "import tensorflow_hub as hub\n",
        "import tensorflow_datasets as tfds\n",
        "\n",
        "from keras.preprocessing import image\n",
        "import pathlib\n",
        "import pandas as pd"
      ],
      "execution_count": 5,
      "outputs": []
    },
    {
      "cell_type": "code",
      "metadata": {
        "id": "FVM2fKGEHIJN"
      },
      "source": [
        "import logging\n",
        "logger = tf.get_logger()\n",
        "logger.setLevel(logging.ERROR)"
      ],
      "execution_count": null,
      "outputs": []
    },
    {
      "cell_type": "code",
      "metadata": {
        "id": "XX2hDRZmhUWM"
      },
      "source": [
        "batch_size = 32\n",
        "img_height = 250\n",
        "img_width = 250\n",
        "IMG_SHAPE = (img_height, img_width, 3)\n",
        "class_names = [\"Disgusted\", \"Happy\", \"Neutral\", \"Angry\", \"Surprise\"]"
      ],
      "execution_count": 40,
      "outputs": []
    },
    {
      "cell_type": "code",
      "metadata": {
        "id": "SRnb6fog0A8b"
      },
      "source": [
        "train = pd.read_csv('train.csv', names=['File_name', 'Label'])\n",
        "train_image = [ ]\n",
        "\n",
        "for i in tqdm(range(train.shape[0])):\n",
        "\n",
        "  img = image.load_img('Images/train/'+train['File_name'][i], target_size=(28,28,1), \n",
        "              grayscale=False)\n",
        "  img = image.img_to_array(img)\n",
        "  img = img/255\n",
        "  train_image.append(img)\n",
        "\n",
        "X = np.array(train_image)\n",
        "\n",
        "train_labels = train.Label.to_list()"
      ],
      "execution_count": null,
      "outputs": []
    },
    {
      "cell_type": "code",
      "metadata": {
        "id": "RYgWiZxigDlP"
      },
      "source": [
        "VGG_model = tf.keras.applications.VGG16(input_shape=IMG_SHAPE,\n",
        "                                               include_top=False,\n",
        "                                               weights='imagenet')\n",
        "VGG_model.trainable = False"
      ],
      "execution_count": 36,
      "outputs": []
    },
    {
      "cell_type": "code",
      "metadata": {
        "id": "NNW0xCXxiFNi"
      },
      "source": [
        "model = tf.keras.Sequential()\n",
        "model.add(tf.keras.layers.experimental.preprocessing.CenterCrop(img_height, img_width))\n",
        "model.add(VGG_model)\n",
        "model.add(tf.keras.layers.Dense(512, activation='relu'))\n",
        "model.add(tf.keras.layers.Dropout(0.1))\n",
        "model.add(tf.keras.layers.Dense(256, activation='relu'))\n",
        "model.add(tf.keras.layers.Dense(128, activation='relu'))\n",
        "model.add(tf.keras.layers.BatchNormalization())\n",
        "model.add(tf.keras.layers.Dense(64, activation='relu'))\n",
        "model.add(tf.keras.layers.Dense(5, activation='softmax'))"
      ],
      "execution_count": 37,
      "outputs": []
    },
    {
      "cell_type": "code",
      "metadata": {
        "id": "4XTpTViyllEl"
      },
      "source": [
        "model.compile(optimizer='adam',\n",
        "              loss=tf.keras.losses.SparseCategoricalCrossentropy(),\n",
        "              metrics=['accuracy'])"
      ],
      "execution_count": 38,
      "outputs": []
    },
    {
      "cell_type": "code",
      "metadata": {
        "id": "ln_oiRzSwxKQ"
      },
      "source": [
        "history = model.fit(x=feature,\n",
        "                      y=label,\n",
        "                      batch_size=batch_size,\n",
        "                      epochs=epochs)"
      ],
      "execution_count": null,
      "outputs": []
    }
  ]
}